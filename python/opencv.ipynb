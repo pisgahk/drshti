{
 "cells": [
  {
   "cell_type": "code",
   "execution_count": 3,
   "id": "03a928b9",
   "metadata": {},
   "outputs": [],
   "source": [
    "import cv2\n",
    "import os"
   ]
  },
  {
   "cell_type": "code",
   "execution_count": 4,
   "id": "8f48a9ef",
   "metadata": {},
   "outputs": [
    {
     "name": "stdout",
     "output_type": "stream",
     "text": [
      "<class 'numpy.ndarray'>\n"
     ]
    }
   ],
   "source": [
    "# What are images?\n",
    "# Images are numpy arrays.\n",
    "\n",
    "import cv2\n",
    "\n",
    "image = cv2.imread(\"./images/Flower-2.png\")\n",
    "print(type(image))"
   ]
  },
  {
   "cell_type": "code",
   "execution_count": 6,
   "id": "cca73dfd",
   "metadata": {},
   "outputs": [
    {
     "name": "stdout",
     "output_type": "stream",
     "text": [
      "(3802, 5090, 3)\n"
     ]
    }
   ],
   "source": [
    "# An image is given by its' height, width, and number of channels.\n",
    "image = cv2.imread(\"./images/Flower-2.png\")\n",
    "print(image.shape)"
   ]
  },
  {
   "cell_type": "code",
   "execution_count": null,
   "id": "b7fe8a34",
   "metadata": {},
   "outputs": [
    {
     "name": "stderr",
     "output_type": "stream",
     "text": [
      "qt.qpa.plugin: Could not find the Qt platform plugin \"wayland\" in \"/home/pisgah/dev/tests/vision/python/.venv/lib/python3.12/site-packages/cv2/qt/plugins\"\n"
     ]
    },
    {
     "data": {
      "text/plain": [
       "235"
      ]
     },
     "execution_count": 1,
     "metadata": {},
     "output_type": "execute_result"
    },
    {
     "ename": "",
     "evalue": "",
     "output_type": "error",
     "traceback": [
      "\u001b[1;31mThe Kernel crashed while executing code in the current cell or a previous cell. \n",
      "\u001b[1;31mPlease review the code in the cell(s) to identify a possible cause of the failure. \n",
      "\u001b[1;31mClick <a href='https://aka.ms/vscodeJupyterKernelCrash'>here</a> for more info. \n",
      "\u001b[1;31mView Jupyter <a href='command:jupyter.viewOutput'>log</a> for further details."
     ]
    }
   ],
   "source": [
    "# How can we:\n",
    "# - read\n",
    "# - write\n",
    "# - visualize images?\n",
    "\n",
    "import cv2\n",
    "import os\n",
    "\n",
    "# read image\n",
    "image_path = os.path.join('.', 'images', 'Classroom.png')\n",
    "img = cv2.imread(image_path)\n",
    "\n",
    "# write image\n",
    "cv2.imwrite(os.path.join('.', 'images', 'Flower-2-out.png'), img)\n",
    "\n",
    "# visualise image\n",
    "cv2.imshow(\"Image Window\", img)\n",
    "cv2.waitKey(2000)"
   ]
  },
  {
   "cell_type": "code",
   "execution_count": null,
   "id": "ed122057",
   "metadata": {},
   "outputs": [],
   "source": [
    "# How can we:\n",
    "# - read\n",
    "# - visualize videos?\n",
    "\n",
    "import os\n",
    "import cv2\n",
    "\n",
    "# read video\n",
    "video_path = os.path.join('.', 'videos', 'ffw.mp4')\n",
    "video = cv2.VideoCapture(video_path)\n",
    "\n",
    "# visualize video.\n",
    "\n",
    "ret = True\n",
    "\n",
    "while ret:\n",
    "    ret, frame = video.read()\n",
    "\n",
    "    if ret:\n",
    "        cv2.imshow('Video Window', frame)\n",
    "        inverse_fps = 1/30 # You must calculate the inverse of the fps to give the video the impression that it is loading seamlessly.\n",
    "        cv2.waitKey(inverse_fps)\n",
    "\n",
    "video.release() # openCV should release the memory that it has allocated for this video.\n",
    "cv2.destroyAllWindows()"
   ]
  },
  {
   "cell_type": "code",
   "execution_count": 1,
   "id": "da5bbdf8",
   "metadata": {},
   "outputs": [
    {
     "name": "stderr",
     "output_type": "stream",
     "text": [
      "qt.qpa.plugin: Could not find the Qt platform plugin \"wayland\" in \"/home/pisgah/dev/tests/vision/python/.venv/lib/python3.12/site-packages/cv2/qt/plugins\"\n"
     ]
    },
    {
     "ename": "",
     "evalue": "",
     "output_type": "error",
     "traceback": [
      "\u001b[1;31mThe Kernel crashed while executing code in the current cell or a previous cell. \n",
      "\u001b[1;31mPlease review the code in the cell(s) to identify a possible cause of the failure. \n",
      "\u001b[1;31mClick <a href='https://aka.ms/vscodeJupyterKernelCrash'>here</a> for more info. \n",
      "\u001b[1;31mView Jupyter <a href='command:jupyter.viewOutput'>log</a> for further details."
     ]
    }
   ],
   "source": [
    "import cv2\n",
    "\n",
    "\n",
    "# Read Webcam.\n",
    "webcam = cv2.VideoCapture(0)\n",
    "\n",
    "# Visualize webcam.\n",
    "while True:\n",
    "    ret, frame = webcam.read()\n",
    "    cv2.imshow(\"Webcam Window\", frame)\n",
    "    if cv2.waitKey(40) & 0xFF == ord('q'):\n",
    "        break\n",
    "\n",
    "webcam.release()\n",
    "cv2.destroyAllWindows()   "
   ]
  },
  {
   "cell_type": "code",
   "execution_count": null,
   "id": "ac7cdae4",
   "metadata": {},
   "outputs": [],
   "source": [
    "#resizing\n",
    "\n",
    "import os\n",
    "import cv2\n",
    "\n",
    "image  = cv2.imread(os.path.join(\".\",\"images\",\"Bonsai-Plant.png\"))\n",
    "\n",
    "resized_image = cv2.resize(image, (728, 408))\n",
    "\n",
    "print(image.shape)\n",
    "print(resized_image.shape)\n",
    "\n",
    "cv2.imshow(\"Original Image\", image)\n",
    "cv2.imshow(\"Resized Image\", resized_image)\n",
    "\n",
    "cv2.waitKey(5000)"
   ]
  },
  {
   "cell_type": "code",
   "execution_count": null,
   "id": "b7134982",
   "metadata": {},
   "outputs": [],
   "source": [
    "#cropping"
   ]
  },
  {
   "cell_type": "code",
   "execution_count": null,
   "id": "d30f1fa4",
   "metadata": {},
   "outputs": [],
   "source": [
    "# Colourspaces.\n",
    "\n",
    "import os\n",
    "import cv2\n",
    "\n",
    "image  = cv2.imread(os.path.join(\".\",\"images\",\"Bonsai-Plant.png\"))\n",
    "resized_image = cv2.resize(image, (728, 408))\n",
    "\n",
    "img_rgb = cv2.cvtColor(resized_image, cv2.COLOR_BGR2RGB)\n",
    "img_gray = cv2.cvtColor(resized_image, cv2.COLOR_BGR2GRAY)\n",
    "img_hsv = cv2.cvtColor(resized_image, cv2.COLOR_BGR2HSV)\n",
    "\n",
    "cv2.imshow(\"Image\", resized_image)\n",
    "cv2.imshow(\"img_RGB\", img_rgb)\n",
    "cv2.imshow(\"img_grey\", img_gray)\n",
    "cv2.imshow(\"img_hsv\", img_hsv)\n",
    "cv2.waitKey(5000)"
   ]
  },
  {
   "cell_type": "code",
   "execution_count": null,
   "id": "4a9b66e1",
   "metadata": {},
   "outputs": [
    {
     "name": "stderr",
     "output_type": "stream",
     "text": [
      "qt.qpa.plugin: Could not find the Qt platform plugin \"wayland\" in \"/home/pisgah/dev/tests/vision/python/.venv/lib/python3.13/site-packages/cv2/qt/plugins\"\n"
     ]
    },
    {
     "data": {
      "text/plain": [
       "235"
      ]
     },
     "execution_count": 4,
     "metadata": {},
     "output_type": "execute_result"
    },
    {
     "ename": "",
     "evalue": "",
     "output_type": "error",
     "traceback": [
      "\u001b[1;31mThe Kernel crashed while executing code in the current cell or a previous cell. \n",
      "\u001b[1;31mPlease review the code in the cell(s) to identify a possible cause of the failure. \n",
      "\u001b[1;31mClick <a href='https://aka.ms/vscodeJupyterKernelCrash'>here</a> for more info. \n",
      "\u001b[1;31mView Jupyter <a href='command:jupyter.viewOutput'>log</a> for further details."
     ]
    }
   ],
   "source": [
    "# Blurring_1.\n",
    "\n",
    "import os\n",
    "import cv2\n",
    "\n",
    "image  = cv2.imread(os.path.join(\".\",\"images\",\"Balcony-ja.png\"))\n",
    "resized_image = cv2.resize(image, (960, 540))\n",
    "\n",
    "k_size = 7 #The greater the ksize, the greater the blur.\n",
    "img_blur = cv2.blur(resized_image,(k_size, k_size)) \n",
    "img_gaussian = cv2.GaussianBlur(resized_image, (k_size,k_size), 3)\n",
    "img_median = cv2.medianBlur(resized_image, k_size)\n",
    "\n",
    "\n",
    "cv2.imshow(\"Image\", resized_image)\n",
    "cv2.imshow(\"Blurred Image\", img_blur)\n",
    "cv2.imshow(\"Gaussian Blur\", img_gaussian)\n",
    "cv2.imshow(\"MedianBlur\", img_median)\n",
    "\n",
    "cv2.waitKey(5000)"
   ]
  },
  {
   "cell_type": "code",
   "execution_count": null,
   "id": "dc85d6b1",
   "metadata": {},
   "outputs": [],
   "source": [
    "# Blurring_2: Using Blurring to remove noise.\n",
    "# Experiment with different types of Blur, median blur is preferred on this."
   ]
  },
  {
   "cell_type": "code",
   "execution_count": null,
   "id": "048c4f84",
   "metadata": {},
   "outputs": [
    {
     "name": "stderr",
     "output_type": "stream",
     "text": [
      "qt.qpa.plugin: Could not find the Qt platform plugin \"wayland\" in \"/home/pisgah/dev/tests/vision/python/.venv/lib/python3.13/site-packages/cv2/qt/plugins\"\n"
     ]
    },
    {
     "data": {
      "text/plain": [
       "235"
      ]
     },
     "execution_count": 1,
     "metadata": {},
     "output_type": "execute_result"
    },
    {
     "ename": "",
     "evalue": "",
     "output_type": "error",
     "traceback": [
      "\u001b[1;31mThe Kernel crashed while executing code in the current cell or a previous cell. \n",
      "\u001b[1;31mPlease review the code in the cell(s) to identify a possible cause of the failure. \n",
      "\u001b[1;31mClick <a href='https://aka.ms/vscodeJupyterKernelCrash'>here</a> for more info. \n",
      "\u001b[1;31mView Jupyter <a href='command:jupyter.viewOutput'>log</a> for further details."
     ]
    }
   ],
   "source": [
    "# Threshold (Read further into the documentation.)\n",
    "import os\n",
    "import cv2\n",
    "\n",
    "img = cv2.imread(os.path.join(\".\", \"images\", \"Flower-1.png\"))\n",
    "\n",
    "img = cv2.resize(img, (728, 408))\n",
    "img_gray = cv2.cvtColor(img, cv2.COLOR_BGR2GRAY)\n",
    "\n",
    "ret, thresh = cv2.threshold(img_gray, 90, 255, cv2.THRESH_BINARY)\n",
    "\n",
    "cv2.imshow(\"img\", img_gray)\n",
    "cv2.imshow(\"thresh\", thresh)\n",
    "cv2.waitKey(0)"
   ]
  },
  {
   "cell_type": "code",
   "execution_count": null,
   "id": "498ab69f",
   "metadata": {},
   "outputs": [
    {
     "name": "stderr",
     "output_type": "stream",
     "text": [
      "qt.qpa.plugin: Could not find the Qt platform plugin \"wayland\" in \"/home/pisgah/dev/tests/vision/python/.venv/lib/python3.13/site-packages/cv2/qt/plugins\"\n"
     ]
    },
    {
     "data": {
      "text/plain": [
       "235"
      ]
     },
     "execution_count": 3,
     "metadata": {},
     "output_type": "execute_result"
    },
    {
     "ename": "",
     "evalue": "",
     "output_type": "error",
     "traceback": [
      "\u001b[1;31mThe Kernel crashed while executing code in the current cell or a previous cell. \n",
      "\u001b[1;31mPlease review the code in the cell(s) to identify a possible cause of the failure. \n",
      "\u001b[1;31mClick <a href='https://aka.ms/vscodeJupyterKernelCrash'>here</a> for more info. \n",
      "\u001b[1;31mView Jupyter <a href='command:jupyter.viewOutput'>log</a> for further details."
     ]
    }
   ],
   "source": [
    "# For the image where sun is shining on a paper and we want to extract all the text.\n",
    "# Application of an adaptive threshold.\n",
    "\n",
    "import os\n",
    "import cv2\n",
    "\n",
    "img = cv2.imread(os.path.join(\".\", \"images\", \"Flower-1.png\"))\n",
    "\n",
    "img = cv2.resize(img, (728, 408))\n",
    "img_gray = cv2.cvtColor(img, cv2.COLOR_BGR2GRAY)\n",
    "\n",
    "#value in position 21 has to be odd, value in place 30 has to be even. \n",
    "thresh = cv2.adaptiveThreshold(img_gray, 255, cv2.ADAPTIVE_THRESH_GAUSSIAN_C, cv2.THRESH_BINARY, 21, 30) #only important line.\n",
    "\n",
    "cv2.imshow(\"img\", img_gray)\n",
    "cv2.imshow(\"thresh\", thresh)\n",
    "cv2.waitKey(0)"
   ]
  },
  {
   "cell_type": "code",
   "execution_count": null,
   "id": "ee66682e",
   "metadata": {},
   "outputs": [
    {
     "name": "stderr",
     "output_type": "stream",
     "text": [
      "qt.qpa.plugin: Could not find the Qt platform plugin \"wayland\" in \"/home/pisgah/dev/tests/vision/python/.venv/lib/python3.13/site-packages/cv2/qt/plugins\"\n"
     ]
    },
    {
     "data": {
      "text/plain": [
       "235"
      ]
     },
     "execution_count": 1,
     "metadata": {},
     "output_type": "execute_result"
    },
    {
     "ename": "",
     "evalue": "",
     "output_type": "error",
     "traceback": [
      "\u001b[1;31mThe Kernel crashed while executing code in the current cell or a previous cell. \n",
      "\u001b[1;31mPlease review the code in the cell(s) to identify a possible cause of the failure. \n",
      "\u001b[1;31mClick <a href='https://aka.ms/vscodeJupyterKernelCrash'>here</a> for more info. \n",
      "\u001b[1;31mView Jupyter <a href='command:jupyter.viewOutput'>log</a> for further details."
     ]
    }
   ],
   "source": [
    "# Edge Detection.\n",
    "# We can use the:\n",
    "# - Sobel Derivatives.\n",
    "# - Laplace Operator.\n",
    "# - Canny Edge Detection.\n",
    "# - Eroding and Dilation.\n",
    "\n",
    "import os\n",
    "import cv2\n",
    "import numpy as np\n",
    "\n",
    "img = cv2.imread(os.path.join(\".\", \"images\", \"Balcony-ja.png\"))\n",
    "img = cv2.resize(img, (960, 540))\n",
    "\n",
    "edge_detector = cv2.Canny(img, 20, 40)\n",
    "img_dilate = cv2.dilate(edge_detector, np.ones((3,3), dtype=np.int8))\n",
    "img_erode = cv2.erode(img_dilate, np.ones((3,3), dtype=np.int8))\n",
    "\n",
    "cv2.imshow(\"Image Window\", img)\n",
    "cv2.imshow(\"Edge Detector\", edge_detector)\n",
    "cv2.imshow(\"Img_Dilate\", img_dilate)\n",
    "cv2.imshow(\"Img_Erode\", img_erode)\n",
    "cv2.waitKey(0)"
   ]
  },
  {
   "cell_type": "code",
   "execution_count": null,
   "id": "6a1a11dc",
   "metadata": {},
   "outputs": [
    {
     "data": {
      "text/plain": [
       "-1"
      ]
     },
     "execution_count": 20,
     "metadata": {},
     "output_type": "execute_result"
    },
    {
     "ename": "",
     "evalue": "",
     "output_type": "error",
     "traceback": [
      "\u001b[1;31mThe Kernel crashed while executing code in the current cell or a previous cell. \n",
      "\u001b[1;31mPlease review the code in the cell(s) to identify a possible cause of the failure. \n",
      "\u001b[1;31mClick <a href='https://aka.ms/vscodeJupyterKernelCrash'>here</a> for more info. \n",
      "\u001b[1;31mView Jupyter <a href='command:jupyter.viewOutput'>log</a> for further details."
     ]
    }
   ],
   "source": [
    "# Drawing.\n",
    "\n",
    "import os\n",
    "import cv2\n",
    "\n",
    "img = cv2.imread(os.path.join(\".\", \"images\", \"Game-GTA.png\"))\n",
    "img = cv2.resize(img, (728, 408))\n",
    "\n",
    "# line\n",
    "cv2.line(img, (20, 30), (100, 200), (0,255, 0), 3)\n",
    "\n",
    "# rectangle\n",
    "cv2.rectangle(img, (20,30), (100,200), (255, 0, 145), 3)\n",
    "\n",
    "# circle\n",
    "cv2.circle(img, (200, 120), radius=50, color=(255, 0, 233), thickness=3)\n",
    "\n",
    "# text\n",
    "cv2.addText(img, \"Beautiful Text displaying\", (30, 300), \"Arial\", 42, (255, 0, 0), 14, 2 )\n",
    "\n",
    "\n",
    "\n",
    "cv2.imshow(\"Image Frame\", img)\n",
    "cv2.waitKey(5000)"
   ]
  },
  {
   "cell_type": "code",
   "execution_count": null,
   "id": "8ebaf1bb",
   "metadata": {},
   "outputs": [],
   "source": [
    "# Contours\n",
    "# In order to work with contours, we need our image to be in black and white,(use threshold) and we detect the white parts."
   ]
  }
 ],
 "metadata": {
  "kernelspec": {
   "display_name": ".venv",
   "language": "python",
   "name": "python3"
  },
  "language_info": {
   "codemirror_mode": {
    "name": "ipython",
    "version": 3
   },
   "file_extension": ".py",
   "mimetype": "text/x-python",
   "name": "python",
   "nbconvert_exporter": "python",
   "pygments_lexer": "ipython3",
   "version": "3.13.7"
  }
 },
 "nbformat": 4,
 "nbformat_minor": 5
}
